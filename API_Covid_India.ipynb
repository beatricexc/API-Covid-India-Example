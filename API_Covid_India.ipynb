{
  "nbformat": 4,
  "nbformat_minor": 0,
  "metadata": {
    "colab": {
      "name": "API Covid India.ipynb",
      "provenance": [],
      "authorship_tag": "ABX9TyM98s5m+myyNXpA77kdPBfK",
      "include_colab_link": true
    },
    "kernelspec": {
      "name": "python3",
      "display_name": "Python 3"
    },
    "language_info": {
      "name": "python"
    }
  },
  "cells": [
    {
      "cell_type": "markdown",
      "metadata": {
        "id": "view-in-github",
        "colab_type": "text"
      },
      "source": [
        "<a href=\"https://colab.research.google.com/github/beatricexc/API-Covid-India-Example/blob/main/API_Covid_India.ipynb\" target=\"_parent\"><img src=\"https://colab.research.google.com/assets/colab-badge.svg\" alt=\"Open In Colab\"/></a>"
      ]
    },
    {
      "cell_type": "code",
      "execution_count": 26,
      "metadata": {
        "id": "B9EhOK0GjChH"
      },
      "outputs": [],
      "source": [
        "#connect to an API\n",
        "import requests\n",
        "import json\n",
        "response_API = requests.get('https://api.covid19india.org/state_district_wise.json')"
      ]
    },
    {
      "cell_type": "code",
      "source": [
        "#get the data from the API\n",
        "data = response_API.text"
      ],
      "metadata": {
        "id": "hkrwHTkUjto4"
      },
      "execution_count": 27,
      "outputs": []
    },
    {
      "cell_type": "code",
      "source": [
        "# parse the data into JSON format\n",
        "parse_json =json.loads(data)"
      ],
      "metadata": {
        "id": "2_uIRF-nkAfn"
      },
      "execution_count": 29,
      "outputs": []
    },
    {
      "cell_type": "code",
      "source": [
        "#extract the data and print it\n",
        "active_case = parse_json['Andaman and Nicobar Islands']['districtData']['South Andaman']['active']\n",
        "print(\"Active cases in South Andaman: \", active_case)"
      ],
      "metadata": {
        "colab": {
          "base_uri": "https://localhost:8080/"
        },
        "id": "U5PdwvR9kASv",
        "outputId": "9badc299-10ca-40df-ff3c-2f41f85416ed"
      },
      "execution_count": 31,
      "outputs": [
        {
          "output_type": "stream",
          "name": "stdout",
          "text": [
            "Active cases in South Andaman:  19\n"
          ]
        }
      ]
    }
  ]
}